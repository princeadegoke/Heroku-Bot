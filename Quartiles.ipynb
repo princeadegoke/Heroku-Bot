{
 "cells": [
  {
   "cell_type": "code",
   "execution_count": 29,
   "metadata": {},
   "outputs": [],
   "source": [
    "# Dependencies\n",
    "import matplotlib.pyplot as plt\n",
    "import numpy as np"
   ]
  },
  {
   "cell_type": "code",
   "execution_count": 30,
   "metadata": {},
   "outputs": [],
   "source": [
    "arr = [8, 8, 12, 24, 54, 54, 75, 78, 98, 102, 132]\n",
    "x_axis = np.arange(0, len(arr), 1)"
   ]
  },
  {
   "cell_type": "code",
   "execution_count": 37,
   "metadata": {},
   "outputs": [
    {
     "data": {
      "text/plain": [
       "8"
      ]
     },
     "execution_count": 37,
     "metadata": {},
     "output_type": "execute_result"
    }
   ],
   "source": [
    "# Calculate the indices for the lower and upper quartiles\n",
    "lower_quartile_index = (len(arr) + 1) // 4\n",
    "upper_quartile_index = 3 * len(arr) // 4\n",
    "\n",
    "upper_quartile_index"
   ]
  },
  {
   "cell_type": "code",
   "execution_count": 32,
   "metadata": {},
   "outputs": [],
   "source": [
    "# Retrieve the lower and upper quartiles\n",
    "lower_quartile = arr[lower_quartile_index]\n",
    "upper_quartile = arr[upper_quartile_index]\n",
    "\n",
    "# Calculate the interquartile range\n",
    "iqr = upper_quartile - lower_quartile"
   ]
  },
  {
   "cell_type": "code",
   "execution_count": 33,
   "metadata": {},
   "outputs": [],
   "source": [
    "# Create axes for the included and excluded data\n",
    "included = arr[lower_quartile_index:upper_quartile_index]\n",
    "included_axis = np.arange(lower_quartile_index, upper_quartile_index, 1)\n",
    "\n",
    "excluded_low = arr[0:lower_quartile_index]\n",
    "low_axis = np.arange(0, len(excluded_low), 1)\n",
    "\n",
    "excluded_high = arr[upper_quartile_index:len(arr)]\n",
    "high_axis = np.arange(len(included) + len(excluded_high), len(arr), 1)"
   ]
  },
  {
   "cell_type": "code",
   "execution_count": 34,
   "metadata": {},
   "outputs": [
    {
     "data": {
      "image/png": "[encoded data removed]",
      "text/plain": [
       "<matplotlib.figure.Figure at 0x11017ce48>"
      ]
     },
     "metadata": {},
     "output_type": "display_data"
    }
   ],
   "source": [
    "# Create a plot displaying included and excluded data\n",
    "fig, ax = plt.subplots()\n",
    "fig.suptitle(\"Interquartile Range Example\", fontsize=16, fontweight=\"bold\")\n",
    "\n",
    "ax.plot(included_axis, included, marker='o', color='b', label=\"IQR\")\n",
    "ax.scatter(\n",
    "    low_axis,\n",
    "    excluded_low,\n",
    "    marker='o',\n",
    "    color='r',\n",
    "    label=\"Excluded (Low)\")\n",
    "ax.scatter(\n",
    "    high_axis,\n",
    "    excluded_high,\n",
    "    marker='o',\n",
    "    color='r',\n",
    "    label=\"Excluded (High)\")\n",
    "\n",
    "plt.legend(loc=\"upper left\", fancybox=True)\n",
    "plt.show()"
   ]
  },
  {
   "cell_type": "code",
   "execution_count": 35,
   "metadata": {},
   "outputs": [
    {
     "name": "stdout",
     "output_type": "stream",
     "text": [
      "The lowr quartile of the data is 24.\n",
      "The upper quartile of the data is 98.\n",
      "The interquartile range of the data is 74.\n"
     ]
    }
   ],
   "source": [
    "# Report descriptions of the data\n",
    "print(\"The lowr quartile of the data is {}.\".format(lower_quartile))\n",
    "print(\"The upper quartile of the data is {}.\".format(upper_quartile))\n",
    "print(\"The interquartile range of the data is {}.\".format(iqr))"
   ]
  }
 ],
 "metadata": {
  "kernelspec": {
   "display_name": "Python 3",
   "language": "python",
   "name": "python3"
  },
  "language_info": {
   "codemirror_mode": {
    "name": "ipython",
    "version": 3
   },
   "file_extension": ".py",
   "mimetype": "text/x-python",
   "name": "python",
   "nbconvert_exporter": "python",
   "pygments_lexer": "ipython3",
   "version": "3.6.2"
  }
 },
 "nbformat": 4,
 "nbformat_minor": 2
}
